{
  "metadata": {
    "kernelspec": {
      "language": "python",
      "display_name": "Python 3",
      "name": "python3"
    },
    "language_info": {
      "name": "python",
      "version": "3.7.12",
      "mimetype": "text/x-python",
      "codemirror_mode": {
        "name": "ipython",
        "version": 3
      },
      "pygments_lexer": "ipython3",
      "nbconvert_exporter": "python",
      "file_extension": ".py"
    },
    "colab": {
      "provenance": []
    }
  },
  "nbformat_minor": 0,
  "nbformat": 4,
  "cells": [
    {
      "cell_type": "markdown",
      "source": [
        "# Novozymes Surface Area with BioPython\n",
        "\n",
        "This is a derivative of the notebook [here](https://www.kaggle.com/code/dschettler8845/novo-esp-surface-area-w-biopython/notebook).  \n",
        "\n",
        "Also, Blosum substitutions from [here](https://www.kaggle.com/code/tilii7/surface-area-scaled-by-blosum62-substitutions/notebook)\n",
        "\n",
        "The initial notebook just uses the test data sequence and estimates the SASA, and directly uses this value to predict the tm. So no training is done using the training set.  \n",
        "\n",
        "May try ensembling this with other methods. \n"
      ],
      "metadata": {
        "id": "Pg8ffJf9EQbm"
      }
    },
    {
      "cell_type": "markdown",
      "source": [
        "### The first set of cells are needed if running from colab"
      ],
      "metadata": {
        "id": "Ou_CHpgJKOG3"
      }
    },
    {
      "cell_type": "code",
      "source": [
        "env = 'colab'"
      ],
      "metadata": {
        "id": "Tct002A4Kbea"
      },
      "execution_count": 11,
      "outputs": []
    },
    {
      "cell_type": "code",
      "source": [
        "from google.colab import drive\n",
        "drive.mount('/content/drive')"
      ],
      "metadata": {
        "colab": {
          "base_uri": "https://localhost:8080/"
        },
        "id": "5hfCKegeGtHa",
        "outputId": "ffa76f06-d878-4562-889f-0cbb34c320c9"
      },
      "execution_count": 19,
      "outputs": [
        {
          "output_type": "stream",
          "name": "stdout",
          "text": [
            "Drive already mounted at /content/drive; to attempt to forcibly remount, call drive.mount(\"/content/drive\", force_remount=True).\n"
          ]
        }
      ]
    },
    {
      "cell_type": "code",
      "source": [
        "!unzip ./drive/MyDrive/novozymes-enzyme-stability-prediction.zip"
      ],
      "metadata": {
        "colab": {
          "base_uri": "https://localhost:8080/"
        },
        "id": "ZfmQD9SmHdJa",
        "outputId": "bcf88ae7-366e-41ba-f8ea-e0a4ccef1247"
      },
      "execution_count": 20,
      "outputs": [
        {
          "output_type": "stream",
          "name": "stdout",
          "text": [
            "Archive:  ./drive/MyDrive/novozymes-enzyme-stability-prediction.zip\n",
            "replace sample_submission.csv? [y]es, [n]o, [A]ll, [N]one, [r]ename: A\n",
            "  inflating: sample_submission.csv   \n",
            "  inflating: test.csv                \n",
            "  inflating: train.csv               \n",
            "  inflating: train_updates_20220929.csv  \n",
            "  inflating: wildtype_structure_prediction_af2.pdb  \n"
          ]
        }
      ]
    },
    {
      "cell_type": "code",
      "source": [
        "!unzip ./drive/MyDrive/new-novoesp-train-and-test-data.zip"
      ],
      "metadata": {
        "id": "jtbnbb8hUC4q",
        "outputId": "16128c94-238d-4703-aa13-1334fe941ac6",
        "colab": {
          "base_uri": "https://localhost:8080/"
        }
      },
      "execution_count": 21,
      "outputs": [
        {
          "output_type": "stream",
          "name": "stdout",
          "text": [
            "Archive:  ./drive/MyDrive/new-novoesp-train-and-test-data.zip\n",
            "  inflating: new_test.csv            \n",
            "  inflating: new_train.csv           \n",
            "  inflating: pdb_fixed_train.csv     \n",
            "  inflating: pdb_fixed_train_expanded.csv  \n"
          ]
        }
      ]
    },
    {
      "cell_type": "code",
      "source": [
        "!ls"
      ],
      "metadata": {
        "id": "_ArlzAJpUYgf",
        "outputId": "10afca6f-083e-4807-cede-fb5fbfbc9081",
        "colab": {
          "base_uri": "https://localhost:8080/"
        }
      },
      "execution_count": 22,
      "outputs": [
        {
          "output_type": "stream",
          "name": "stdout",
          "text": [
            "drive\t\t\t      sample_submission.csv\n",
            "new_test.csv\t\t      test.csv\n",
            "new_train.csv\t\t      train.csv\n",
            "pdb_fixed_train.csv\t      train_updates_20220929.csv\n",
            "pdb_fixed_train_expanded.csv  wildtype_structure_prediction_af2.pdb\n",
            "sample_data\n"
          ]
        }
      ]
    },
    {
      "cell_type": "code",
      "source": [
        "# Install biopandas and biopython\n",
        "!pip install -q biopandas\n",
        "!pip install -q biopython"
      ],
      "metadata": {
        "_uuid": "8f2839f25d086af736a60e9eeb907d3b93b6e0e5",
        "_cell_guid": "b1076dfc-b9ad-4769-8c92-a6c4dae69d19",
        "execution": {
          "iopub.status.busy": "2022-12-07T20:46:34.277800Z",
          "iopub.execute_input": "2022-12-07T20:46:34.278340Z",
          "iopub.status.idle": "2022-12-07T20:47:00.172778Z",
          "shell.execute_reply.started": "2022-12-07T20:46:34.278207Z",
          "shell.execute_reply": "2022-12-07T20:47:00.170885Z"
        },
        "trusted": true,
        "colab": {
          "base_uri": "https://localhost:8080/"
        },
        "id": "lD6M6O8pEQbp",
        "outputId": "c20af8a0-7ddc-4b61-9177-b77095a27dc9"
      },
      "execution_count": 1,
      "outputs": [
        {
          "output_type": "stream",
          "name": "stdout",
          "text": [
            "\u001b[K     |████████████████████████████████| 878 kB 5.9 MB/s \n",
            "\u001b[K     |████████████████████████████████| 3.1 MB 7.7 MB/s \n",
            "\u001b[?25h"
          ]
        }
      ]
    },
    {
      "cell_type": "code",
      "source": [
        "import numpy as np\n",
        "import pandas as pd\n",
        "from scipy import stats\n",
        "\n",
        "import Bio\n",
        "from Bio.PDB import PDBParser\n",
        "from Bio.PDB.SASA import ShrakeRupley  # what is this?\n",
        "\n",
        "import matplotlib.pyplot as plt\n",
        "import seaborn as sns\n",
        "sns.set_style('whitegrid')"
      ],
      "metadata": {
        "execution": {
          "iopub.status.busy": "2022-12-07T20:47:00.176376Z",
          "iopub.execute_input": "2022-12-07T20:47:00.176949Z",
          "iopub.status.idle": "2022-12-07T20:47:01.054368Z",
          "shell.execute_reply.started": "2022-12-07T20:47:00.176894Z",
          "shell.execute_reply": "2022-12-07T20:47:01.052860Z"
        },
        "trusted": true,
        "id": "dJoIgZSNEQbs"
      },
      "execution_count": 14,
      "outputs": []
    },
    {
      "cell_type": "code",
      "source": [
        "!pwd"
      ],
      "metadata": {
        "colab": {
          "base_uri": "https://localhost:8080/"
        },
        "id": "drx4ccYKKlG9",
        "outputId": "95b777c0-a1f1-43e3-9621-17b3e92ca4d2"
      },
      "execution_count": 12,
      "outputs": [
        {
          "output_type": "stream",
          "name": "stdout",
          "text": [
            "/content\n"
          ]
        }
      ]
    },
    {
      "cell_type": "code",
      "source": [
        "# this needs to change if using kaggle vs colab\n",
        "root = 'input/novozymes-enzyme-stability-prediction'\n",
        "if env == 'colab':\n",
        "  root = 'content'\n",
        "\n",
        "test_wt_pdb_path = f\"../{root}/wildtype_structure_prediction_af2.pdb\"\n",
        "train = pd.read_csv(f'../{root}/train.csv')\n",
        "test = pd.read_csv(f\"../{root}/test.csv\")\n",
        "test_w_extra_info = pd.read_csv(f\"../{root}/new_test.csv\")\n",
        "ss = pd.read_csv(f\"../{root}/sample_submission.csv\")\n",
        "test = test.merge(test_w_extra_info[[\"seq_id\", \"edit_type\", \"edit_idx\", \"wildtype_aa\", \"mutant_aa\"]], on=\"seq_id\", how=\"left\").fillna(-1)\n",
        "\n",
        "# add blosum from: https://www.kaggle.com/code/tilii7/surface-area-scaled-by-blosum62-substitutions/notebook\n",
        "#blosum = pd.read_csv(f'../{root}/blosum62-scaled/BLOSUM62_scaled.csv')\n",
        "#blosum.set_index('amino-acids', inplace=True)\n",
        "# Wildtype test sequence \n",
        "wildtype_aa = \"VPVNPEPDATSVENVALKTGSGDSQSDPIKADLEVKGQSALPFDVDCWAILCKGAPNVLQRVNEKTKNSNRDRSGANKGPFKDPQKWGIKALPPKNPSWSAQDFKSPEEYAFASSLQGGTNAILAPVNLASQNSQGGVLNGFYSANKVAQFDPSKPQQTKGTWFQITKFTGAAGPYCKALGSNDKSVCDKNKNIAGDWGFDPAKWAYQYDEKNNKFNYVGK\"\n",
        "\n",
        "\n",
        "test\n"
      ],
      "metadata": {
        "execution": {
          "iopub.status.busy": "2022-12-07T20:47:01.056548Z",
          "iopub.execute_input": "2022-12-07T20:47:01.057030Z",
          "iopub.status.idle": "2022-12-07T20:47:01.289988Z",
          "shell.execute_reply.started": "2022-12-07T20:47:01.056980Z",
          "shell.execute_reply": "2022-12-07T20:47:01.288644Z"
        },
        "trusted": true,
        "colab": {
          "base_uri": "https://localhost:8080/",
          "height": 424
        },
        "id": "cqBimO8xEQbt",
        "outputId": "4a7061e3-62c0-4b96-9727-285ab092f5f5"
      },
      "execution_count": 24,
      "outputs": [
        {
          "output_type": "execute_result",
          "data": {
            "text/plain": [
              "      seq_id                                   protein_sequence  pH  \\\n",
              "0      31390  VPVNPEPDATSVENVAEKTGSGDSQSDPIKADLEVKGQSALPFDVD...   8   \n",
              "1      31391  VPVNPEPDATSVENVAKKTGSGDSQSDPIKADLEVKGQSALPFDVD...   8   \n",
              "2      31392  VPVNPEPDATSVENVAKTGSGDSQSDPIKADLEVKGQSALPFDVDC...   8   \n",
              "3      31393  VPVNPEPDATSVENVALCTGSGDSQSDPIKADLEVKGQSALPFDVD...   8   \n",
              "4      31394  VPVNPEPDATSVENVALFTGSGDSQSDPIKADLEVKGQSALPFDVD...   8   \n",
              "...      ...                                                ...  ..   \n",
              "2408   33798  VPVNPEPDATSVENVILKTGSGDSQSDPIKADLEVKGQSALPFDVD...   8   \n",
              "2409   33799  VPVNPEPDATSVENVLLKTGSGDSQSDPIKADLEVKGQSALPFDVD...   8   \n",
              "2410   33800  VPVNPEPDATSVENVNLKTGSGDSQSDPIKADLEVKGQSALPFDVD...   8   \n",
              "2411   33801  VPVNPEPDATSVENVPLKTGSGDSQSDPIKADLEVKGQSALPFDVD...   8   \n",
              "2412   33802  VPVNPEPDATSVENVWLKTGSGDSQSDPIKADLEVKGQSALPFDVD...   8   \n",
              "\n",
              "     data_source     edit_type  edit_idx wildtype_aa mutant_aa  \n",
              "0      Novozymes  substitution      16.0           L         E  \n",
              "1      Novozymes  substitution      16.0           L         K  \n",
              "2      Novozymes      deletion      16.0           L        -1  \n",
              "3      Novozymes  substitution      17.0           K         C  \n",
              "4      Novozymes  substitution      17.0           K         F  \n",
              "...          ...           ...       ...         ...       ...  \n",
              "2408   Novozymes  substitution      15.0           A         I  \n",
              "2409   Novozymes  substitution      15.0           A         L  \n",
              "2410   Novozymes  substitution      15.0           A         N  \n",
              "2411   Novozymes  substitution      15.0           A         P  \n",
              "2412   Novozymes  substitution      15.0           A         W  \n",
              "\n",
              "[2413 rows x 8 columns]"
            ],
            "text/html": [
              "\n",
              "  <div id=\"df-2ebee145-dbd2-4765-8961-0df714544ffa\">\n",
              "    <div class=\"colab-df-container\">\n",
              "      <div>\n",
              "<style scoped>\n",
              "    .dataframe tbody tr th:only-of-type {\n",
              "        vertical-align: middle;\n",
              "    }\n",
              "\n",
              "    .dataframe tbody tr th {\n",
              "        vertical-align: top;\n",
              "    }\n",
              "\n",
              "    .dataframe thead th {\n",
              "        text-align: right;\n",
              "    }\n",
              "</style>\n",
              "<table border=\"1\" class=\"dataframe\">\n",
              "  <thead>\n",
              "    <tr style=\"text-align: right;\">\n",
              "      <th></th>\n",
              "      <th>seq_id</th>\n",
              "      <th>protein_sequence</th>\n",
              "      <th>pH</th>\n",
              "      <th>data_source</th>\n",
              "      <th>edit_type</th>\n",
              "      <th>edit_idx</th>\n",
              "      <th>wildtype_aa</th>\n",
              "      <th>mutant_aa</th>\n",
              "    </tr>\n",
              "  </thead>\n",
              "  <tbody>\n",
              "    <tr>\n",
              "      <th>0</th>\n",
              "      <td>31390</td>\n",
              "      <td>VPVNPEPDATSVENVAEKTGSGDSQSDPIKADLEVKGQSALPFDVD...</td>\n",
              "      <td>8</td>\n",
              "      <td>Novozymes</td>\n",
              "      <td>substitution</td>\n",
              "      <td>16.0</td>\n",
              "      <td>L</td>\n",
              "      <td>E</td>\n",
              "    </tr>\n",
              "    <tr>\n",
              "      <th>1</th>\n",
              "      <td>31391</td>\n",
              "      <td>VPVNPEPDATSVENVAKKTGSGDSQSDPIKADLEVKGQSALPFDVD...</td>\n",
              "      <td>8</td>\n",
              "      <td>Novozymes</td>\n",
              "      <td>substitution</td>\n",
              "      <td>16.0</td>\n",
              "      <td>L</td>\n",
              "      <td>K</td>\n",
              "    </tr>\n",
              "    <tr>\n",
              "      <th>2</th>\n",
              "      <td>31392</td>\n",
              "      <td>VPVNPEPDATSVENVAKTGSGDSQSDPIKADLEVKGQSALPFDVDC...</td>\n",
              "      <td>8</td>\n",
              "      <td>Novozymes</td>\n",
              "      <td>deletion</td>\n",
              "      <td>16.0</td>\n",
              "      <td>L</td>\n",
              "      <td>-1</td>\n",
              "    </tr>\n",
              "    <tr>\n",
              "      <th>3</th>\n",
              "      <td>31393</td>\n",
              "      <td>VPVNPEPDATSVENVALCTGSGDSQSDPIKADLEVKGQSALPFDVD...</td>\n",
              "      <td>8</td>\n",
              "      <td>Novozymes</td>\n",
              "      <td>substitution</td>\n",
              "      <td>17.0</td>\n",
              "      <td>K</td>\n",
              "      <td>C</td>\n",
              "    </tr>\n",
              "    <tr>\n",
              "      <th>4</th>\n",
              "      <td>31394</td>\n",
              "      <td>VPVNPEPDATSVENVALFTGSGDSQSDPIKADLEVKGQSALPFDVD...</td>\n",
              "      <td>8</td>\n",
              "      <td>Novozymes</td>\n",
              "      <td>substitution</td>\n",
              "      <td>17.0</td>\n",
              "      <td>K</td>\n",
              "      <td>F</td>\n",
              "    </tr>\n",
              "    <tr>\n",
              "      <th>...</th>\n",
              "      <td>...</td>\n",
              "      <td>...</td>\n",
              "      <td>...</td>\n",
              "      <td>...</td>\n",
              "      <td>...</td>\n",
              "      <td>...</td>\n",
              "      <td>...</td>\n",
              "      <td>...</td>\n",
              "    </tr>\n",
              "    <tr>\n",
              "      <th>2408</th>\n",
              "      <td>33798</td>\n",
              "      <td>VPVNPEPDATSVENVILKTGSGDSQSDPIKADLEVKGQSALPFDVD...</td>\n",
              "      <td>8</td>\n",
              "      <td>Novozymes</td>\n",
              "      <td>substitution</td>\n",
              "      <td>15.0</td>\n",
              "      <td>A</td>\n",
              "      <td>I</td>\n",
              "    </tr>\n",
              "    <tr>\n",
              "      <th>2409</th>\n",
              "      <td>33799</td>\n",
              "      <td>VPVNPEPDATSVENVLLKTGSGDSQSDPIKADLEVKGQSALPFDVD...</td>\n",
              "      <td>8</td>\n",
              "      <td>Novozymes</td>\n",
              "      <td>substitution</td>\n",
              "      <td>15.0</td>\n",
              "      <td>A</td>\n",
              "      <td>L</td>\n",
              "    </tr>\n",
              "    <tr>\n",
              "      <th>2410</th>\n",
              "      <td>33800</td>\n",
              "      <td>VPVNPEPDATSVENVNLKTGSGDSQSDPIKADLEVKGQSALPFDVD...</td>\n",
              "      <td>8</td>\n",
              "      <td>Novozymes</td>\n",
              "      <td>substitution</td>\n",
              "      <td>15.0</td>\n",
              "      <td>A</td>\n",
              "      <td>N</td>\n",
              "    </tr>\n",
              "    <tr>\n",
              "      <th>2411</th>\n",
              "      <td>33801</td>\n",
              "      <td>VPVNPEPDATSVENVPLKTGSGDSQSDPIKADLEVKGQSALPFDVD...</td>\n",
              "      <td>8</td>\n",
              "      <td>Novozymes</td>\n",
              "      <td>substitution</td>\n",
              "      <td>15.0</td>\n",
              "      <td>A</td>\n",
              "      <td>P</td>\n",
              "    </tr>\n",
              "    <tr>\n",
              "      <th>2412</th>\n",
              "      <td>33802</td>\n",
              "      <td>VPVNPEPDATSVENVWLKTGSGDSQSDPIKADLEVKGQSALPFDVD...</td>\n",
              "      <td>8</td>\n",
              "      <td>Novozymes</td>\n",
              "      <td>substitution</td>\n",
              "      <td>15.0</td>\n",
              "      <td>A</td>\n",
              "      <td>W</td>\n",
              "    </tr>\n",
              "  </tbody>\n",
              "</table>\n",
              "<p>2413 rows × 8 columns</p>\n",
              "</div>\n",
              "      <button class=\"colab-df-convert\" onclick=\"convertToInteractive('df-2ebee145-dbd2-4765-8961-0df714544ffa')\"\n",
              "              title=\"Convert this dataframe to an interactive table.\"\n",
              "              style=\"display:none;\">\n",
              "        \n",
              "  <svg xmlns=\"http://www.w3.org/2000/svg\" height=\"24px\"viewBox=\"0 0 24 24\"\n",
              "       width=\"24px\">\n",
              "    <path d=\"M0 0h24v24H0V0z\" fill=\"none\"/>\n",
              "    <path d=\"M18.56 5.44l.94 2.06.94-2.06 2.06-.94-2.06-.94-.94-2.06-.94 2.06-2.06.94zm-11 1L8.5 8.5l.94-2.06 2.06-.94-2.06-.94L8.5 2.5l-.94 2.06-2.06.94zm10 10l.94 2.06.94-2.06 2.06-.94-2.06-.94-.94-2.06-.94 2.06-2.06.94z\"/><path d=\"M17.41 7.96l-1.37-1.37c-.4-.4-.92-.59-1.43-.59-.52 0-1.04.2-1.43.59L10.3 9.45l-7.72 7.72c-.78.78-.78 2.05 0 2.83L4 21.41c.39.39.9.59 1.41.59.51 0 1.02-.2 1.41-.59l7.78-7.78 2.81-2.81c.8-.78.8-2.07 0-2.86zM5.41 20L4 18.59l7.72-7.72 1.47 1.35L5.41 20z\"/>\n",
              "  </svg>\n",
              "      </button>\n",
              "      \n",
              "  <style>\n",
              "    .colab-df-container {\n",
              "      display:flex;\n",
              "      flex-wrap:wrap;\n",
              "      gap: 12px;\n",
              "    }\n",
              "\n",
              "    .colab-df-convert {\n",
              "      background-color: #E8F0FE;\n",
              "      border: none;\n",
              "      border-radius: 50%;\n",
              "      cursor: pointer;\n",
              "      display: none;\n",
              "      fill: #1967D2;\n",
              "      height: 32px;\n",
              "      padding: 0 0 0 0;\n",
              "      width: 32px;\n",
              "    }\n",
              "\n",
              "    .colab-df-convert:hover {\n",
              "      background-color: #E2EBFA;\n",
              "      box-shadow: 0px 1px 2px rgba(60, 64, 67, 0.3), 0px 1px 3px 1px rgba(60, 64, 67, 0.15);\n",
              "      fill: #174EA6;\n",
              "    }\n",
              "\n",
              "    [theme=dark] .colab-df-convert {\n",
              "      background-color: #3B4455;\n",
              "      fill: #D2E3FC;\n",
              "    }\n",
              "\n",
              "    [theme=dark] .colab-df-convert:hover {\n",
              "      background-color: #434B5C;\n",
              "      box-shadow: 0px 1px 3px 1px rgba(0, 0, 0, 0.15);\n",
              "      filter: drop-shadow(0px 1px 2px rgba(0, 0, 0, 0.3));\n",
              "      fill: #FFFFFF;\n",
              "    }\n",
              "  </style>\n",
              "\n",
              "      <script>\n",
              "        const buttonEl =\n",
              "          document.querySelector('#df-2ebee145-dbd2-4765-8961-0df714544ffa button.colab-df-convert');\n",
              "        buttonEl.style.display =\n",
              "          google.colab.kernel.accessAllowed ? 'block' : 'none';\n",
              "\n",
              "        async function convertToInteractive(key) {\n",
              "          const element = document.querySelector('#df-2ebee145-dbd2-4765-8961-0df714544ffa');\n",
              "          const dataTable =\n",
              "            await google.colab.kernel.invokeFunction('convertToInteractive',\n",
              "                                                     [key], {});\n",
              "          if (!dataTable) return;\n",
              "\n",
              "          const docLinkHtml = 'Like what you see? Visit the ' +\n",
              "            '<a target=\"_blank\" href=https://colab.research.google.com/notebooks/data_table.ipynb>data table notebook</a>'\n",
              "            + ' to learn more about interactive tables.';\n",
              "          element.innerHTML = '';\n",
              "          dataTable['output_type'] = 'display_data';\n",
              "          await google.colab.output.renderOutput(dataTable, element);\n",
              "          const docLink = document.createElement('div');\n",
              "          docLink.innerHTML = docLinkHtml;\n",
              "          element.appendChild(docLink);\n",
              "        }\n",
              "      </script>\n",
              "    </div>\n",
              "  </div>\n",
              "  "
            ]
          },
          "metadata": {},
          "execution_count": 24
        }
      ]
    },
    {
      "cell_type": "code",
      "source": [
        "pdb_parser = PDBParser(QUIET=1)\n",
        "\n",
        "def get_sr_sasa(pdb_path, return_struct=False, pdb_identifier=\"AF70\", sr_n_points=250):\n",
        "    sr = ShrakeRupley(n_points=sr_n_points)\n",
        "    struct = pdb_parser.get_structure(pdb_identifier, pdb_path)\n",
        "    sr.compute(struct, level=\"R\")\n",
        "    if return_struct:\n",
        "        return struct\n",
        "    else:\n",
        "        return [x.sasa for x in struct.get_residues()]\n",
        "    \n",
        "sasa_by_residue = get_sr_sasa(test_wt_pdb_path)\n",
        "residue_idx_to_sasa = {i:_sasa for i, _sasa in enumerate(sasa_by_residue)}\n",
        "test[\"sasa\"] = test[\"edit_idx\"].apply(lambda x: residue_idx_to_sasa.get(x, 0.0))\n",
        "test\n",
        "\n"
      ],
      "metadata": {
        "execution": {
          "iopub.status.busy": "2022-12-07T20:47:01.294169Z",
          "iopub.execute_input": "2022-12-07T20:47:01.295602Z",
          "iopub.status.idle": "2022-12-07T20:47:04.329250Z",
          "shell.execute_reply.started": "2022-12-07T20:47:01.295535Z",
          "shell.execute_reply": "2022-12-07T20:47:04.328320Z"
        },
        "trusted": true,
        "colab": {
          "base_uri": "https://localhost:8080/",
          "height": 424
        },
        "id": "nQS5nCHrEQbu",
        "outputId": "46096b1c-e4be-471f-a7ac-cbca172bce22"
      },
      "execution_count": 25,
      "outputs": [
        {
          "output_type": "execute_result",
          "data": {
            "text/plain": [
              "      seq_id                                   protein_sequence  pH  \\\n",
              "0      31390  VPVNPEPDATSVENVAEKTGSGDSQSDPIKADLEVKGQSALPFDVD...   8   \n",
              "1      31391  VPVNPEPDATSVENVAKKTGSGDSQSDPIKADLEVKGQSALPFDVD...   8   \n",
              "2      31392  VPVNPEPDATSVENVAKTGSGDSQSDPIKADLEVKGQSALPFDVDC...   8   \n",
              "3      31393  VPVNPEPDATSVENVALCTGSGDSQSDPIKADLEVKGQSALPFDVD...   8   \n",
              "4      31394  VPVNPEPDATSVENVALFTGSGDSQSDPIKADLEVKGQSALPFDVD...   8   \n",
              "...      ...                                                ...  ..   \n",
              "2408   33798  VPVNPEPDATSVENVILKTGSGDSQSDPIKADLEVKGQSALPFDVD...   8   \n",
              "2409   33799  VPVNPEPDATSVENVLLKTGSGDSQSDPIKADLEVKGQSALPFDVD...   8   \n",
              "2410   33800  VPVNPEPDATSVENVNLKTGSGDSQSDPIKADLEVKGQSALPFDVD...   8   \n",
              "2411   33801  VPVNPEPDATSVENVPLKTGSGDSQSDPIKADLEVKGQSALPFDVD...   8   \n",
              "2412   33802  VPVNPEPDATSVENVWLKTGSGDSQSDPIKADLEVKGQSALPFDVD...   8   \n",
              "\n",
              "     data_source     edit_type  edit_idx wildtype_aa mutant_aa        sasa  \n",
              "0      Novozymes  substitution      16.0           L         E  170.882740  \n",
              "1      Novozymes  substitution      16.0           L         K  170.882740  \n",
              "2      Novozymes      deletion      16.0           L        -1  170.882740  \n",
              "3      Novozymes  substitution      17.0           K         C   71.392633  \n",
              "4      Novozymes  substitution      17.0           K         F   71.392633  \n",
              "...          ...           ...       ...         ...       ...         ...  \n",
              "2408   Novozymes  substitution      15.0           A         I   55.403077  \n",
              "2409   Novozymes  substitution      15.0           A         L   55.403077  \n",
              "2410   Novozymes  substitution      15.0           A         N   55.403077  \n",
              "2411   Novozymes  substitution      15.0           A         P   55.403077  \n",
              "2412   Novozymes  substitution      15.0           A         W   55.403077  \n",
              "\n",
              "[2413 rows x 9 columns]"
            ],
            "text/html": [
              "\n",
              "  <div id=\"df-939ab35c-812c-43f8-8a54-532faee96130\">\n",
              "    <div class=\"colab-df-container\">\n",
              "      <div>\n",
              "<style scoped>\n",
              "    .dataframe tbody tr th:only-of-type {\n",
              "        vertical-align: middle;\n",
              "    }\n",
              "\n",
              "    .dataframe tbody tr th {\n",
              "        vertical-align: top;\n",
              "    }\n",
              "\n",
              "    .dataframe thead th {\n",
              "        text-align: right;\n",
              "    }\n",
              "</style>\n",
              "<table border=\"1\" class=\"dataframe\">\n",
              "  <thead>\n",
              "    <tr style=\"text-align: right;\">\n",
              "      <th></th>\n",
              "      <th>seq_id</th>\n",
              "      <th>protein_sequence</th>\n",
              "      <th>pH</th>\n",
              "      <th>data_source</th>\n",
              "      <th>edit_type</th>\n",
              "      <th>edit_idx</th>\n",
              "      <th>wildtype_aa</th>\n",
              "      <th>mutant_aa</th>\n",
              "      <th>sasa</th>\n",
              "    </tr>\n",
              "  </thead>\n",
              "  <tbody>\n",
              "    <tr>\n",
              "      <th>0</th>\n",
              "      <td>31390</td>\n",
              "      <td>VPVNPEPDATSVENVAEKTGSGDSQSDPIKADLEVKGQSALPFDVD...</td>\n",
              "      <td>8</td>\n",
              "      <td>Novozymes</td>\n",
              "      <td>substitution</td>\n",
              "      <td>16.0</td>\n",
              "      <td>L</td>\n",
              "      <td>E</td>\n",
              "      <td>170.882740</td>\n",
              "    </tr>\n",
              "    <tr>\n",
              "      <th>1</th>\n",
              "      <td>31391</td>\n",
              "      <td>VPVNPEPDATSVENVAKKTGSGDSQSDPIKADLEVKGQSALPFDVD...</td>\n",
              "      <td>8</td>\n",
              "      <td>Novozymes</td>\n",
              "      <td>substitution</td>\n",
              "      <td>16.0</td>\n",
              "      <td>L</td>\n",
              "      <td>K</td>\n",
              "      <td>170.882740</td>\n",
              "    </tr>\n",
              "    <tr>\n",
              "      <th>2</th>\n",
              "      <td>31392</td>\n",
              "      <td>VPVNPEPDATSVENVAKTGSGDSQSDPIKADLEVKGQSALPFDVDC...</td>\n",
              "      <td>8</td>\n",
              "      <td>Novozymes</td>\n",
              "      <td>deletion</td>\n",
              "      <td>16.0</td>\n",
              "      <td>L</td>\n",
              "      <td>-1</td>\n",
              "      <td>170.882740</td>\n",
              "    </tr>\n",
              "    <tr>\n",
              "      <th>3</th>\n",
              "      <td>31393</td>\n",
              "      <td>VPVNPEPDATSVENVALCTGSGDSQSDPIKADLEVKGQSALPFDVD...</td>\n",
              "      <td>8</td>\n",
              "      <td>Novozymes</td>\n",
              "      <td>substitution</td>\n",
              "      <td>17.0</td>\n",
              "      <td>K</td>\n",
              "      <td>C</td>\n",
              "      <td>71.392633</td>\n",
              "    </tr>\n",
              "    <tr>\n",
              "      <th>4</th>\n",
              "      <td>31394</td>\n",
              "      <td>VPVNPEPDATSVENVALFTGSGDSQSDPIKADLEVKGQSALPFDVD...</td>\n",
              "      <td>8</td>\n",
              "      <td>Novozymes</td>\n",
              "      <td>substitution</td>\n",
              "      <td>17.0</td>\n",
              "      <td>K</td>\n",
              "      <td>F</td>\n",
              "      <td>71.392633</td>\n",
              "    </tr>\n",
              "    <tr>\n",
              "      <th>...</th>\n",
              "      <td>...</td>\n",
              "      <td>...</td>\n",
              "      <td>...</td>\n",
              "      <td>...</td>\n",
              "      <td>...</td>\n",
              "      <td>...</td>\n",
              "      <td>...</td>\n",
              "      <td>...</td>\n",
              "      <td>...</td>\n",
              "    </tr>\n",
              "    <tr>\n",
              "      <th>2408</th>\n",
              "      <td>33798</td>\n",
              "      <td>VPVNPEPDATSVENVILKTGSGDSQSDPIKADLEVKGQSALPFDVD...</td>\n",
              "      <td>8</td>\n",
              "      <td>Novozymes</td>\n",
              "      <td>substitution</td>\n",
              "      <td>15.0</td>\n",
              "      <td>A</td>\n",
              "      <td>I</td>\n",
              "      <td>55.403077</td>\n",
              "    </tr>\n",
              "    <tr>\n",
              "      <th>2409</th>\n",
              "      <td>33799</td>\n",
              "      <td>VPVNPEPDATSVENVLLKTGSGDSQSDPIKADLEVKGQSALPFDVD...</td>\n",
              "      <td>8</td>\n",
              "      <td>Novozymes</td>\n",
              "      <td>substitution</td>\n",
              "      <td>15.0</td>\n",
              "      <td>A</td>\n",
              "      <td>L</td>\n",
              "      <td>55.403077</td>\n",
              "    </tr>\n",
              "    <tr>\n",
              "      <th>2410</th>\n",
              "      <td>33800</td>\n",
              "      <td>VPVNPEPDATSVENVNLKTGSGDSQSDPIKADLEVKGQSALPFDVD...</td>\n",
              "      <td>8</td>\n",
              "      <td>Novozymes</td>\n",
              "      <td>substitution</td>\n",
              "      <td>15.0</td>\n",
              "      <td>A</td>\n",
              "      <td>N</td>\n",
              "      <td>55.403077</td>\n",
              "    </tr>\n",
              "    <tr>\n",
              "      <th>2411</th>\n",
              "      <td>33801</td>\n",
              "      <td>VPVNPEPDATSVENVPLKTGSGDSQSDPIKADLEVKGQSALPFDVD...</td>\n",
              "      <td>8</td>\n",
              "      <td>Novozymes</td>\n",
              "      <td>substitution</td>\n",
              "      <td>15.0</td>\n",
              "      <td>A</td>\n",
              "      <td>P</td>\n",
              "      <td>55.403077</td>\n",
              "    </tr>\n",
              "    <tr>\n",
              "      <th>2412</th>\n",
              "      <td>33802</td>\n",
              "      <td>VPVNPEPDATSVENVWLKTGSGDSQSDPIKADLEVKGQSALPFDVD...</td>\n",
              "      <td>8</td>\n",
              "      <td>Novozymes</td>\n",
              "      <td>substitution</td>\n",
              "      <td>15.0</td>\n",
              "      <td>A</td>\n",
              "      <td>W</td>\n",
              "      <td>55.403077</td>\n",
              "    </tr>\n",
              "  </tbody>\n",
              "</table>\n",
              "<p>2413 rows × 9 columns</p>\n",
              "</div>\n",
              "      <button class=\"colab-df-convert\" onclick=\"convertToInteractive('df-939ab35c-812c-43f8-8a54-532faee96130')\"\n",
              "              title=\"Convert this dataframe to an interactive table.\"\n",
              "              style=\"display:none;\">\n",
              "        \n",
              "  <svg xmlns=\"http://www.w3.org/2000/svg\" height=\"24px\"viewBox=\"0 0 24 24\"\n",
              "       width=\"24px\">\n",
              "    <path d=\"M0 0h24v24H0V0z\" fill=\"none\"/>\n",
              "    <path d=\"M18.56 5.44l.94 2.06.94-2.06 2.06-.94-2.06-.94-.94-2.06-.94 2.06-2.06.94zm-11 1L8.5 8.5l.94-2.06 2.06-.94-2.06-.94L8.5 2.5l-.94 2.06-2.06.94zm10 10l.94 2.06.94-2.06 2.06-.94-2.06-.94-.94-2.06-.94 2.06-2.06.94z\"/><path d=\"M17.41 7.96l-1.37-1.37c-.4-.4-.92-.59-1.43-.59-.52 0-1.04.2-1.43.59L10.3 9.45l-7.72 7.72c-.78.78-.78 2.05 0 2.83L4 21.41c.39.39.9.59 1.41.59.51 0 1.02-.2 1.41-.59l7.78-7.78 2.81-2.81c.8-.78.8-2.07 0-2.86zM5.41 20L4 18.59l7.72-7.72 1.47 1.35L5.41 20z\"/>\n",
              "  </svg>\n",
              "      </button>\n",
              "      \n",
              "  <style>\n",
              "    .colab-df-container {\n",
              "      display:flex;\n",
              "      flex-wrap:wrap;\n",
              "      gap: 12px;\n",
              "    }\n",
              "\n",
              "    .colab-df-convert {\n",
              "      background-color: #E8F0FE;\n",
              "      border: none;\n",
              "      border-radius: 50%;\n",
              "      cursor: pointer;\n",
              "      display: none;\n",
              "      fill: #1967D2;\n",
              "      height: 32px;\n",
              "      padding: 0 0 0 0;\n",
              "      width: 32px;\n",
              "    }\n",
              "\n",
              "    .colab-df-convert:hover {\n",
              "      background-color: #E2EBFA;\n",
              "      box-shadow: 0px 1px 2px rgba(60, 64, 67, 0.3), 0px 1px 3px 1px rgba(60, 64, 67, 0.15);\n",
              "      fill: #174EA6;\n",
              "    }\n",
              "\n",
              "    [theme=dark] .colab-df-convert {\n",
              "      background-color: #3B4455;\n",
              "      fill: #D2E3FC;\n",
              "    }\n",
              "\n",
              "    [theme=dark] .colab-df-convert:hover {\n",
              "      background-color: #434B5C;\n",
              "      box-shadow: 0px 1px 3px 1px rgba(0, 0, 0, 0.15);\n",
              "      filter: drop-shadow(0px 1px 2px rgba(0, 0, 0, 0.3));\n",
              "      fill: #FFFFFF;\n",
              "    }\n",
              "  </style>\n",
              "\n",
              "      <script>\n",
              "        const buttonEl =\n",
              "          document.querySelector('#df-939ab35c-812c-43f8-8a54-532faee96130 button.colab-df-convert');\n",
              "        buttonEl.style.display =\n",
              "          google.colab.kernel.accessAllowed ? 'block' : 'none';\n",
              "\n",
              "        async function convertToInteractive(key) {\n",
              "          const element = document.querySelector('#df-939ab35c-812c-43f8-8a54-532faee96130');\n",
              "          const dataTable =\n",
              "            await google.colab.kernel.invokeFunction('convertToInteractive',\n",
              "                                                     [key], {});\n",
              "          if (!dataTable) return;\n",
              "\n",
              "          const docLinkHtml = 'Like what you see? Visit the ' +\n",
              "            '<a target=\"_blank\" href=https://colab.research.google.com/notebooks/data_table.ipynb>data table notebook</a>'\n",
              "            + ' to learn more about interactive tables.';\n",
              "          element.innerHTML = '';\n",
              "          dataTable['output_type'] = 'display_data';\n",
              "          await google.colab.output.renderOutput(dataTable, element);\n",
              "          const docLink = document.createElement('div');\n",
              "          docLink.innerHTML = docLinkHtml;\n",
              "          element.appendChild(docLink);\n",
              "        }\n",
              "      </script>\n",
              "    </div>\n",
              "  </div>\n",
              "  "
            ]
          },
          "metadata": {},
          "execution_count": 25
        }
      ]
    },
    {
      "cell_type": "code",
      "source": [
        "# Multiply SASA values by substitution scores\n",
        "# for k in range(test.shape[0]):\n",
        "#     if test['edit_type'][k] == 'substitution':\n",
        "#         test['sasa'][k] = test['sasa'][k] * blosum[test['wildtype_aa'][k]][test['mutant_aa'][k]]\n",
        "\n",
        "# Set deletions to the lowest score of all mutations at a given position\n",
        "for k in range(test.shape[0]):\n",
        "    if test['edit_type'][k] == 'deletion':\n",
        "        test['sasa'][k] = test[test['edit_idx'] == test['edit_idx'][k]]['sasa'].values.min()\n",
        "\n",
        "print(test.head())"
      ],
      "metadata": {
        "execution": {
          "iopub.status.busy": "2022-12-07T20:47:04.330761Z",
          "iopub.execute_input": "2022-12-07T20:47:04.331858Z",
          "iopub.status.idle": "2022-12-07T20:47:05.201834Z",
          "shell.execute_reply.started": "2022-12-07T20:47:04.331774Z",
          "shell.execute_reply": "2022-12-07T20:47:05.200379Z"
        },
        "trusted": true,
        "colab": {
          "base_uri": "https://localhost:8080/"
        },
        "id": "2-ZW5dCFEQbw",
        "outputId": "2f3dc7a8-d73c-4238-ebb1-54cbfb128b30"
      },
      "execution_count": 26,
      "outputs": [
        {
          "output_type": "stream",
          "name": "stdout",
          "text": [
            "   seq_id                                   protein_sequence  pH data_source  \\\n",
            "0   31390  VPVNPEPDATSVENVAEKTGSGDSQSDPIKADLEVKGQSALPFDVD...   8   Novozymes   \n",
            "1   31391  VPVNPEPDATSVENVAKKTGSGDSQSDPIKADLEVKGQSALPFDVD...   8   Novozymes   \n",
            "2   31392  VPVNPEPDATSVENVAKTGSGDSQSDPIKADLEVKGQSALPFDVDC...   8   Novozymes   \n",
            "3   31393  VPVNPEPDATSVENVALCTGSGDSQSDPIKADLEVKGQSALPFDVD...   8   Novozymes   \n",
            "4   31394  VPVNPEPDATSVENVALFTGSGDSQSDPIKADLEVKGQSALPFDVD...   8   Novozymes   \n",
            "\n",
            "      edit_type  edit_idx wildtype_aa mutant_aa        sasa  \n",
            "0  substitution      16.0           L         E  170.882740  \n",
            "1  substitution      16.0           L         K  170.882740  \n",
            "2      deletion      16.0           L        -1  170.882740  \n",
            "3  substitution      17.0           K         C   71.392633  \n",
            "4  substitution      17.0           K         F   71.392633  \n"
          ]
        },
        {
          "output_type": "stream",
          "name": "stderr",
          "text": [
            "<ipython-input-26-dd03d732fce3>:9: SettingWithCopyWarning: \n",
            "A value is trying to be set on a copy of a slice from a DataFrame\n",
            "\n",
            "See the caveats in the documentation: https://pandas.pydata.org/pandas-docs/stable/user_guide/indexing.html#returning-a-view-versus-a-copy\n",
            "  test['sasa'][k] = test[test['edit_idx'] == test['edit_idx'][k]]['sasa'].values.min()\n"
          ]
        }
      ]
    },
    {
      "cell_type": "markdown",
      "source": [
        "### Amino Acid map"
      ],
      "metadata": {
        "id": "7Evm1KByEQbx"
      }
    },
    {
      "cell_type": "code",
      "source": [
        "aa_map = dict(Alanine=(\"Ala\", \"A\"), Arginine=(\"Arg\", \"R\"), Asparagine=(\"Asn\", \"N\"), Aspartic_Acid=(\"Asp\", \"D\"),\n",
        "              Cysteine=(\"Cys\", \"C\"), Glutamic_Acid=(\"Glu\", \"E\"), Glutamine=(\"Gln\", \"Q\"), Glycine=(\"Gly\", \"G\"),\n",
        "              Histidine=(\"His\", \"H\"), Isoleucine=(\"Ile\", \"I\"), Leucine=(\"Leu\", \"L\"), Lysine=(\"Lys\", \"K\"),\n",
        "              Methionine=(\"Met\", \"M\"), Phenylalanine=(\"Phe\", \"F\"), Proline=(\"Pro\", \"P\"), Serine=(\"Ser\", \"S\"),\n",
        "              Threonine=(\"Thr\", \"T\"), Tryptophan=(\"Trp\", \"W\"), Tyrosine=(\"Tyr\", \"Y\"), Valine=(\"Val\", \"V\"))"
      ],
      "metadata": {
        "execution": {
          "iopub.status.busy": "2022-12-07T20:47:05.203737Z",
          "iopub.execute_input": "2022-12-07T20:47:05.204516Z",
          "iopub.status.idle": "2022-12-07T20:47:05.215444Z",
          "shell.execute_reply.started": "2022-12-07T20:47:05.204469Z",
          "shell.execute_reply": "2022-12-07T20:47:05.214018Z"
        },
        "trusted": true,
        "id": "EOsLgZEOEQbz"
      },
      "execution_count": 27,
      "outputs": []
    },
    {
      "cell_type": "markdown",
      "source": [
        "## EDA on new Features"
      ],
      "metadata": {
        "id": "KRiPYmJlEQbz"
      }
    },
    {
      "cell_type": "markdown",
      "source": [
        "### SASA"
      ],
      "metadata": {
        "id": "bYfWTjBPEQb1"
      }
    },
    {
      "cell_type": "code",
      "source": [
        "test.sasa.value_counts()"
      ],
      "metadata": {
        "execution": {
          "iopub.status.busy": "2022-12-07T20:47:05.217135Z",
          "iopub.execute_input": "2022-12-07T20:47:05.217612Z",
          "iopub.status.idle": "2022-12-07T20:47:05.239973Z",
          "shell.execute_reply.started": "2022-12-07T20:47:05.217566Z",
          "shell.execute_reply": "2022-12-07T20:47:05.238381Z"
        },
        "trusted": true,
        "colab": {
          "base_uri": "https://localhost:8080/"
        },
        "id": "cRt1PTpOEQb2",
        "outputId": "62fbfe35-05ac-450b-ed53-788478edd966"
      },
      "execution_count": 28,
      "outputs": [
        {
          "output_type": "execute_result",
          "data": {
            "text/plain": [
              "0.000000      265\n",
              "0.428584       24\n",
              "2.718357       21\n",
              "18.384419      20\n",
              "8.571672       20\n",
              "             ... \n",
              "107.260146      3\n",
              "4.714420        3\n",
              "2.895935        2\n",
              "0.777230        2\n",
              "47.041067       1\n",
              "Name: sasa, Length: 175, dtype: int64"
            ]
          },
          "metadata": {},
          "execution_count": 28
        }
      ]
    },
    {
      "cell_type": "code",
      "source": [
        "sns.histplot(test.sasa,bins=80)"
      ],
      "metadata": {
        "execution": {
          "iopub.status.busy": "2022-12-07T20:47:05.242129Z",
          "iopub.execute_input": "2022-12-07T20:47:05.242600Z",
          "iopub.status.idle": "2022-12-07T20:47:05.750952Z",
          "shell.execute_reply.started": "2022-12-07T20:47:05.242557Z",
          "shell.execute_reply": "2022-12-07T20:47:05.749363Z"
        },
        "trusted": true,
        "colab": {
          "base_uri": "https://localhost:8080/",
          "height": 297
        },
        "id": "4pxT__KaEQb2",
        "outputId": "cf971e02-3d09-4c8e-ac99-8a5799669e4d"
      },
      "execution_count": 29,
      "outputs": [
        {
          "output_type": "execute_result",
          "data": {
            "text/plain": [
              "<matplotlib.axes._subplots.AxesSubplot at 0x7fc3af438a60>"
            ]
          },
          "metadata": {},
          "execution_count": 29
        },
        {
          "output_type": "display_data",
          "data": {
            "text/plain": [
              "<Figure size 432x288 with 1 Axes>"
            ],
            "image/png": "[encoded data removed]"
          },
          "metadata": {}
        }
      ]
    },
    {
      "cell_type": "markdown",
      "source": [
        "### Edit type"
      ],
      "metadata": {
        "id": "yKigZn_hEQb3"
      }
    },
    {
      "cell_type": "code",
      "source": [
        "test.edit_type.value_counts()"
      ],
      "metadata": {
        "execution": {
          "iopub.status.busy": "2022-12-07T20:47:05.753055Z",
          "iopub.execute_input": "2022-12-07T20:47:05.753666Z",
          "iopub.status.idle": "2022-12-07T20:47:05.765009Z",
          "shell.execute_reply.started": "2022-12-07T20:47:05.753613Z",
          "shell.execute_reply": "2022-12-07T20:47:05.763212Z"
        },
        "trusted": true,
        "colab": {
          "base_uri": "https://localhost:8080/"
        },
        "id": "9zcAaNItEQb4",
        "outputId": "0403bed1-6db8-499e-bc53-07d3e290af69"
      },
      "execution_count": 30,
      "outputs": [
        {
          "output_type": "execute_result",
          "data": {
            "text/plain": [
              "substitution    2335\n",
              "deletion          77\n",
              "-1                 1\n",
              "Name: edit_type, dtype: int64"
            ]
          },
          "metadata": {},
          "execution_count": 30
        }
      ]
    },
    {
      "cell_type": "code",
      "source": [
        "et = test.edit_type.value_counts()\n",
        "sns.barplot(x=et.index,y=et.values);\n",
        "plt.title('Distrubition of Edit_Type Feature');"
      ],
      "metadata": {
        "execution": {
          "iopub.status.busy": "2022-12-07T20:47:05.769020Z",
          "iopub.execute_input": "2022-12-07T20:47:05.769487Z",
          "iopub.status.idle": "2022-12-07T20:47:05.994623Z",
          "shell.execute_reply.started": "2022-12-07T20:47:05.769450Z",
          "shell.execute_reply": "2022-12-07T20:47:05.992927Z"
        },
        "trusted": true,
        "colab": {
          "base_uri": "https://localhost:8080/",
          "height": 281
        },
        "id": "ZXYw0oHFEQb4",
        "outputId": "6ad87494-9478-484a-fbef-394157e5a395"
      },
      "execution_count": 31,
      "outputs": [
        {
          "output_type": "display_data",
          "data": {
            "text/plain": [
              "<Figure size 432x288 with 1 Axes>"
            ],
            "image/png": "[encoded data removed]"
          },
          "metadata": {}
        }
      ]
    },
    {
      "cell_type": "markdown",
      "source": [
        "### Edit Index"
      ],
      "metadata": {
        "id": "JL4lyD_6EQb5"
      }
    },
    {
      "cell_type": "code",
      "source": [
        "len(test.edit_idx.value_counts())"
      ],
      "metadata": {
        "execution": {
          "iopub.status.busy": "2022-12-07T20:47:05.996357Z",
          "iopub.execute_input": "2022-12-07T20:47:05.997016Z",
          "iopub.status.idle": "2022-12-07T20:47:06.006860Z",
          "shell.execute_reply.started": "2022-12-07T20:47:05.996981Z",
          "shell.execute_reply": "2022-12-07T20:47:06.005819Z"
        },
        "trusted": true,
        "colab": {
          "base_uri": "https://localhost:8080/"
        },
        "id": "YLHFPQMQEQb5",
        "outputId": "5ffab04e-d859-4901-ab2c-83502cec0d1b"
      },
      "execution_count": 32,
      "outputs": [
        {
          "output_type": "execute_result",
          "data": {
            "text/plain": [
              "202"
            ]
          },
          "metadata": {},
          "execution_count": 32
        }
      ]
    },
    {
      "cell_type": "code",
      "source": [
        "plt.figure(figsize=(18,6))\n",
        "ei = test.edit_idx.value_counts()\n",
        "sns.countplot(test.edit_idx)\n",
        "plt.title('Distrubition of Edit_Index Feature')\n",
        "plt.xticks(rotation=90);"
      ],
      "metadata": {
        "execution": {
          "iopub.status.busy": "2022-12-07T20:47:06.008274Z",
          "iopub.execute_input": "2022-12-07T20:47:06.009403Z",
          "iopub.status.idle": "2022-12-07T20:47:11.674355Z",
          "shell.execute_reply.started": "2022-12-07T20:47:06.009363Z",
          "shell.execute_reply": "2022-12-07T20:47:11.673118Z"
        },
        "trusted": true,
        "colab": {
          "base_uri": "https://localhost:8080/",
          "height": 480
        },
        "id": "emeEtlMWEQb6",
        "outputId": "745f7f7d-f6f6-4e2d-b2c2-e2365d3c3ee5"
      },
      "execution_count": 33,
      "outputs": [
        {
          "output_type": "stream",
          "name": "stderr",
          "text": [
            "/usr/local/lib/python3.8/dist-packages/seaborn/_decorators.py:36: FutureWarning: Pass the following variable as a keyword arg: x. From version 0.12, the only valid positional argument will be `data`, and passing other arguments without an explicit keyword will result in an error or misinterpretation.\n",
            "  warnings.warn(\n"
          ]
        },
        {
          "output_type": "display_data",
          "data": {
            "text/plain": [
              "<Figure size 1296x432 with 1 Axes>"
            ],
            "image/png": "[encoded data removed]"
          },
          "metadata": {}
        }
      ]
    },
    {
      "cell_type": "markdown",
      "source": [
        "### Wildtype_aa and mutant_aa"
      ],
      "metadata": {
        "id": "Bppq0xgDEQb7"
      }
    },
    {
      "cell_type": "code",
      "source": [
        "wtc = test.wildtype_aa.value_counts()\n",
        "mc = test.mutant_aa.value_counts()\n",
        "\n",
        "plt.figure(figsize= (16,5))\n",
        "plt.subplot(1,2,1)\n",
        "sns.barplot(x=wtc.index,y=wtc.values)\n",
        "plt.title('Wildtype Amino Acid Substitutions')\n",
        "plt.subplot(1,2,2)\n",
        "sns.barplot(x=mc.index,y=mc.values)\n",
        "plt.title('Mutant Amino Acid Replacment');"
      ],
      "metadata": {
        "execution": {
          "iopub.status.busy": "2022-12-07T20:47:11.676097Z",
          "iopub.execute_input": "2022-12-07T20:47:11.676662Z",
          "iopub.status.idle": "2022-12-07T20:47:12.673787Z",
          "shell.execute_reply.started": "2022-12-07T20:47:11.676616Z",
          "shell.execute_reply": "2022-12-07T20:47:12.672874Z"
        },
        "trusted": true,
        "colab": {
          "base_uri": "https://localhost:8080/",
          "height": 336
        },
        "id": "J-se4KZvEQb7",
        "outputId": "1aca5200-e3ad-46bd-f9f8-ccc40838c4ab"
      },
      "execution_count": 34,
      "outputs": [
        {
          "output_type": "display_data",
          "data": {
            "text/plain": [
              "<Figure size 1152x360 with 2 Axes>"
            ],
            "image/png": "[encoded data removed]"
          },
          "metadata": {}
        }
      ]
    },
    {
      "cell_type": "markdown",
      "source": [
        "### Data source"
      ],
      "metadata": {
        "id": "xi25rSaREQb8"
      }
    },
    {
      "cell_type": "code",
      "source": [
        "train.data_source.value_counts()"
      ],
      "metadata": {
        "execution": {
          "iopub.status.busy": "2022-12-07T20:48:01.567428Z",
          "iopub.execute_input": "2022-12-07T20:48:01.567857Z",
          "iopub.status.idle": "2022-12-07T20:48:01.684176Z",
          "shell.execute_reply.started": "2022-12-07T20:48:01.567825Z",
          "shell.execute_reply": "2022-12-07T20:48:01.681743Z"
        },
        "trusted": true,
        "colab": {
          "base_uri": "https://localhost:8080/"
        },
        "id": "kUiQh9RGEQb8",
        "outputId": "2bc8e2a7-29b2-4969-99da-472dd134fc04"
      },
      "execution_count": 35,
      "outputs": [
        {
          "output_type": "execute_result",
          "data": {
            "text/plain": [
              "doi.org/10.1038/s41592-020-0801-4    24525\n",
              "10.1021/acscatal.9b05223               211\n",
              "10.1016/j.bpc.2006.10.014              185\n",
              "10.7554/eLife.54639                    151\n",
              "10.1007/s00253-018-8872-1               84\n",
              "                                     ...  \n",
              "10.1074/jbc.M001132200                   1\n",
              "10.1021/bi9530090                        1\n",
              "10.1016/j.ijbiomac.2008.12.016           1\n",
              "10.1016/j.jmb.2004.02.073                1\n",
              "10.1021/bi00219a037                      1\n",
              "Name: data_source, Length: 324, dtype: int64"
            ]
          },
          "metadata": {},
          "execution_count": 35
        }
      ]
    },
    {
      "cell_type": "markdown",
      "source": [
        "### Other features from BioPython"
      ],
      "metadata": {
        "id": "FRvmWZo1EQb9"
      }
    },
    {
      "cell_type": "code",
      "source": [
        "from Bio.SeqUtils.ProtParam import ProteinAnalysis\n",
        "test[\"stability_analysis\"] = test[\"protein_sequence\"].apply(lambda x: ProteinAnalysis(x).instability_index())\n",
        "test[\"aromaticity_analysis\"] = test[\"protein_sequence\"].apply(lambda x: ProteinAnalysis(x).aromaticity())\n",
        "test[\"isoelectric_analysis\"] = test[\"protein_sequence\"].apply(lambda x: ProteinAnalysis(x).isoelectric_point())\n",
        "test[\"charge_analysis\"] = test[\"protein_sequence\"].apply(lambda x: ProteinAnalysis(x).charge_at_pH(8.0))\n",
        "test[\"helix_analysis\"] = test[\"protein_sequence\"].apply(lambda x: ProteinAnalysis(x).secondary_structure_fraction()[0])\n",
        "test[\"turn_analysis\"] = test[\"protein_sequence\"].apply(lambda x: ProteinAnalysis(x).secondary_structure_fraction()[1])\n",
        "test[\"sheet_analysis\"] = test[\"protein_sequence\"].apply(lambda x: ProteinAnalysis(x).secondary_structure_fraction()[2])\n",
        "test[\"mec_analysis_1\"] = test[\"protein_sequence\"].apply(lambda x: ProteinAnalysis(x).molar_extinction_coefficient()[0])\n",
        "test[\"mec_analysis_2\"] = test[\"protein_sequence\"].apply(lambda x: ProteinAnalysis(x).molar_extinction_coefficient()[1])\n",
        "test[\"gravy_analysis\"] = test[\"protein_sequence\"].apply(lambda x: ProteinAnalysis(x).gravy())\n",
        "test\n"
      ],
      "metadata": {
        "execution": {
          "iopub.status.busy": "2022-12-07T20:47:12.675266Z",
          "iopub.execute_input": "2022-12-07T20:47:12.676493Z",
          "iopub.status.idle": "2022-12-07T20:47:15.635974Z",
          "shell.execute_reply.started": "2022-12-07T20:47:12.676447Z",
          "shell.execute_reply": "2022-12-07T20:47:15.634833Z"
        },
        "trusted": true,
        "colab": {
          "base_uri": "https://localhost:8080/",
          "height": 488
        },
        "id": "XjUiuM4fEQb9",
        "outputId": "4ac3e8a7-6c12-479a-f991-54563c689916"
      },
      "execution_count": 36,
      "outputs": [
        {
          "output_type": "execute_result",
          "data": {
            "text/plain": [
              "      seq_id                                   protein_sequence  pH  \\\n",
              "0      31390  VPVNPEPDATSVENVAEKTGSGDSQSDPIKADLEVKGQSALPFDVD...   8   \n",
              "1      31391  VPVNPEPDATSVENVAKKTGSGDSQSDPIKADLEVKGQSALPFDVD...   8   \n",
              "2      31392  VPVNPEPDATSVENVAKTGSGDSQSDPIKADLEVKGQSALPFDVDC...   8   \n",
              "3      31393  VPVNPEPDATSVENVALCTGSGDSQSDPIKADLEVKGQSALPFDVD...   8   \n",
              "4      31394  VPVNPEPDATSVENVALFTGSGDSQSDPIKADLEVKGQSALPFDVD...   8   \n",
              "...      ...                                                ...  ..   \n",
              "2408   33798  VPVNPEPDATSVENVILKTGSGDSQSDPIKADLEVKGQSALPFDVD...   8   \n",
              "2409   33799  VPVNPEPDATSVENVLLKTGSGDSQSDPIKADLEVKGQSALPFDVD...   8   \n",
              "2410   33800  VPVNPEPDATSVENVNLKTGSGDSQSDPIKADLEVKGQSALPFDVD...   8   \n",
              "2411   33801  VPVNPEPDATSVENVPLKTGSGDSQSDPIKADLEVKGQSALPFDVD...   8   \n",
              "2412   33802  VPVNPEPDATSVENVWLKTGSGDSQSDPIKADLEVKGQSALPFDVD...   8   \n",
              "\n",
              "     data_source     edit_type  edit_idx wildtype_aa mutant_aa        sasa  \\\n",
              "0      Novozymes  substitution      16.0           L         E  170.882740   \n",
              "1      Novozymes  substitution      16.0           L         K  170.882740   \n",
              "2      Novozymes      deletion      16.0           L        -1  170.882740   \n",
              "3      Novozymes  substitution      17.0           K         C   71.392633   \n",
              "4      Novozymes  substitution      17.0           K         F   71.392633   \n",
              "...          ...           ...       ...         ...       ...         ...   \n",
              "2408   Novozymes  substitution      15.0           A         I   55.403077   \n",
              "2409   Novozymes  substitution      15.0           A         L   55.403077   \n",
              "2410   Novozymes  substitution      15.0           A         N   55.403077   \n",
              "2411   Novozymes  substitution      15.0           A         P   55.403077   \n",
              "2412   Novozymes  substitution      15.0           A         W   55.403077   \n",
              "\n",
              "      stability_analysis  aromaticity_analysis  isoelectric_analysis  \\\n",
              "0              43.819955              0.099548              8.751535   \n",
              "1              43.819955              0.099548              9.024494   \n",
              "2              43.973682              0.100000              8.907484   \n",
              "3              45.295068              0.099548              8.699638   \n",
              "4              43.819955              0.104072              8.761012   \n",
              "...                  ...                   ...                   ...   \n",
              "2408           44.307285              0.099548              8.907484   \n",
              "2409           43.435792              0.099548              8.907484   \n",
              "2410           43.435792              0.099548              8.907484   \n",
              "2411           44.307285              0.099548              8.907484   \n",
              "2412           43.994163              0.104072              8.907484   \n",
              "\n",
              "      charge_analysis  helix_analysis  turn_analysis  sheet_analysis  \\\n",
              "0            2.558953        0.230769       0.330317        0.180995   \n",
              "1            4.548770        0.230769       0.330317        0.176471   \n",
              "2            3.558671        0.231818       0.331818        0.177273   \n",
              "3            2.477663        0.235294       0.330317        0.180995   \n",
              "4            2.568572        0.239819       0.330317        0.180995   \n",
              "...               ...             ...            ...             ...   \n",
              "2408         3.558671        0.239819       0.330317        0.176471   \n",
              "2409         3.558671        0.239819       0.330317        0.180995   \n",
              "2410         3.558671        0.235294       0.334842        0.176471   \n",
              "2411         3.558671        0.235294       0.334842        0.176471   \n",
              "2412         3.558671        0.239819       0.330317        0.176471   \n",
              "\n",
              "      mec_analysis_1  mec_analysis_2  gravy_analysis  \n",
              "0              41940           42190       -0.771041  \n",
              "1              41940           42190       -0.772851  \n",
              "2              41940           42190       -0.758636  \n",
              "3              41940           42190       -0.709050  \n",
              "4              41940           42190       -0.707692  \n",
              "...              ...             ...             ...  \n",
              "2408           41940           42190       -0.725792  \n",
              "2409           41940           42190       -0.728959  \n",
              "2410           41940           42190       -0.761991  \n",
              "2411           41940           42190       -0.753394  \n",
              "2412           47440           47690       -0.750226  \n",
              "\n",
              "[2413 rows x 19 columns]"
            ],
            "text/html": [
              "\n",
              "  <div id=\"df-06b34d18-9060-4c07-926e-e222f58818a9\">\n",
              "    <div class=\"colab-df-container\">\n",
              "      <div>\n",
              "<style scoped>\n",
              "    .dataframe tbody tr th:only-of-type {\n",
              "        vertical-align: middle;\n",
              "    }\n",
              "\n",
              "    .dataframe tbody tr th {\n",
              "        vertical-align: top;\n",
              "    }\n",
              "\n",
              "    .dataframe thead th {\n",
              "        text-align: right;\n",
              "    }\n",
              "</style>\n",
              "<table border=\"1\" class=\"dataframe\">\n",
              "  <thead>\n",
              "    <tr style=\"text-align: right;\">\n",
              "      <th></th>\n",
              "      <th>seq_id</th>\n",
              "      <th>protein_sequence</th>\n",
              "      <th>pH</th>\n",
              "      <th>data_source</th>\n",
              "      <th>edit_type</th>\n",
              "      <th>edit_idx</th>\n",
              "      <th>wildtype_aa</th>\n",
              "      <th>mutant_aa</th>\n",
              "      <th>sasa</th>\n",
              "      <th>stability_analysis</th>\n",
              "      <th>aromaticity_analysis</th>\n",
              "      <th>isoelectric_analysis</th>\n",
              "      <th>charge_analysis</th>\n",
              "      <th>helix_analysis</th>\n",
              "      <th>turn_analysis</th>\n",
              "      <th>sheet_analysis</th>\n",
              "      <th>mec_analysis_1</th>\n",
              "      <th>mec_analysis_2</th>\n",
              "      <th>gravy_analysis</th>\n",
              "    </tr>\n",
              "  </thead>\n",
              "  <tbody>\n",
              "    <tr>\n",
              "      <th>0</th>\n",
              "      <td>31390</td>\n",
              "      <td>VPVNPEPDATSVENVAEKTGSGDSQSDPIKADLEVKGQSALPFDVD...</td>\n",
              "      <td>8</td>\n",
              "      <td>Novozymes</td>\n",
              "      <td>substitution</td>\n",
              "      <td>16.0</td>\n",
              "      <td>L</td>\n",
              "      <td>E</td>\n",
              "      <td>170.882740</td>\n",
              "      <td>43.819955</td>\n",
              "      <td>0.099548</td>\n",
              "      <td>8.751535</td>\n",
              "      <td>2.558953</td>\n",
              "      <td>0.230769</td>\n",
              "      <td>0.330317</td>\n",
              "      <td>0.180995</td>\n",
              "      <td>41940</td>\n",
              "      <td>42190</td>\n",
              "      <td>-0.771041</td>\n",
              "    </tr>\n",
              "    <tr>\n",
              "      <th>1</th>\n",
              "      <td>31391</td>\n",
              "      <td>VPVNPEPDATSVENVAKKTGSGDSQSDPIKADLEVKGQSALPFDVD...</td>\n",
              "      <td>8</td>\n",
              "      <td>Novozymes</td>\n",
              "      <td>substitution</td>\n",
              "      <td>16.0</td>\n",
              "      <td>L</td>\n",
              "      <td>K</td>\n",
              "      <td>170.882740</td>\n",
              "      <td>43.819955</td>\n",
              "      <td>0.099548</td>\n",
              "      <td>9.024494</td>\n",
              "      <td>4.548770</td>\n",
              "      <td>0.230769</td>\n",
              "      <td>0.330317</td>\n",
              "      <td>0.176471</td>\n",
              "      <td>41940</td>\n",
              "      <td>42190</td>\n",
              "      <td>-0.772851</td>\n",
              "    </tr>\n",
              "    <tr>\n",
              "      <th>2</th>\n",
              "      <td>31392</td>\n",
              "      <td>VPVNPEPDATSVENVAKTGSGDSQSDPIKADLEVKGQSALPFDVDC...</td>\n",
              "      <td>8</td>\n",
              "      <td>Novozymes</td>\n",
              "      <td>deletion</td>\n",
              "      <td>16.0</td>\n",
              "      <td>L</td>\n",
              "      <td>-1</td>\n",
              "      <td>170.882740</td>\n",
              "      <td>43.973682</td>\n",
              "      <td>0.100000</td>\n",
              "      <td>8.907484</td>\n",
              "      <td>3.558671</td>\n",
              "      <td>0.231818</td>\n",
              "      <td>0.331818</td>\n",
              "      <td>0.177273</td>\n",
              "      <td>41940</td>\n",
              "      <td>42190</td>\n",
              "      <td>-0.758636</td>\n",
              "    </tr>\n",
              "    <tr>\n",
              "      <th>3</th>\n",
              "      <td>31393</td>\n",
              "      <td>VPVNPEPDATSVENVALCTGSGDSQSDPIKADLEVKGQSALPFDVD...</td>\n",
              "      <td>8</td>\n",
              "      <td>Novozymes</td>\n",
              "      <td>substitution</td>\n",
              "      <td>17.0</td>\n",
              "      <td>K</td>\n",
              "      <td>C</td>\n",
              "      <td>71.392633</td>\n",
              "      <td>45.295068</td>\n",
              "      <td>0.099548</td>\n",
              "      <td>8.699638</td>\n",
              "      <td>2.477663</td>\n",
              "      <td>0.235294</td>\n",
              "      <td>0.330317</td>\n",
              "      <td>0.180995</td>\n",
              "      <td>41940</td>\n",
              "      <td>42190</td>\n",
              "      <td>-0.709050</td>\n",
              "    </tr>\n",
              "    <tr>\n",
              "      <th>4</th>\n",
              "      <td>31394</td>\n",
              "      <td>VPVNPEPDATSVENVALFTGSGDSQSDPIKADLEVKGQSALPFDVD...</td>\n",
              "      <td>8</td>\n",
              "      <td>Novozymes</td>\n",
              "      <td>substitution</td>\n",
              "      <td>17.0</td>\n",
              "      <td>K</td>\n",
              "      <td>F</td>\n",
              "      <td>71.392633</td>\n",
              "      <td>43.819955</td>\n",
              "      <td>0.104072</td>\n",
              "      <td>8.761012</td>\n",
              "      <td>2.568572</td>\n",
              "      <td>0.239819</td>\n",
              "      <td>0.330317</td>\n",
              "      <td>0.180995</td>\n",
              "      <td>41940</td>\n",
              "      <td>42190</td>\n",
              "      <td>-0.707692</td>\n",
              "    </tr>\n",
              "    <tr>\n",
              "      <th>...</th>\n",
              "      <td>...</td>\n",
              "      <td>...</td>\n",
              "      <td>...</td>\n",
              "      <td>...</td>\n",
              "      <td>...</td>\n",
              "      <td>...</td>\n",
              "      <td>...</td>\n",
              "      <td>...</td>\n",
              "      <td>...</td>\n",
              "      <td>...</td>\n",
              "      <td>...</td>\n",
              "      <td>...</td>\n",
              "      <td>...</td>\n",
              "      <td>...</td>\n",
              "      <td>...</td>\n",
              "      <td>...</td>\n",
              "      <td>...</td>\n",
              "      <td>...</td>\n",
              "      <td>...</td>\n",
              "    </tr>\n",
              "    <tr>\n",
              "      <th>2408</th>\n",
              "      <td>33798</td>\n",
              "      <td>VPVNPEPDATSVENVILKTGSGDSQSDPIKADLEVKGQSALPFDVD...</td>\n",
              "      <td>8</td>\n",
              "      <td>Novozymes</td>\n",
              "      <td>substitution</td>\n",
              "      <td>15.0</td>\n",
              "      <td>A</td>\n",
              "      <td>I</td>\n",
              "      <td>55.403077</td>\n",
              "      <td>44.307285</td>\n",
              "      <td>0.099548</td>\n",
              "      <td>8.907484</td>\n",
              "      <td>3.558671</td>\n",
              "      <td>0.239819</td>\n",
              "      <td>0.330317</td>\n",
              "      <td>0.176471</td>\n",
              "      <td>41940</td>\n",
              "      <td>42190</td>\n",
              "      <td>-0.725792</td>\n",
              "    </tr>\n",
              "    <tr>\n",
              "      <th>2409</th>\n",
              "      <td>33799</td>\n",
              "      <td>VPVNPEPDATSVENVLLKTGSGDSQSDPIKADLEVKGQSALPFDVD...</td>\n",
              "      <td>8</td>\n",
              "      <td>Novozymes</td>\n",
              "      <td>substitution</td>\n",
              "      <td>15.0</td>\n",
              "      <td>A</td>\n",
              "      <td>L</td>\n",
              "      <td>55.403077</td>\n",
              "      <td>43.435792</td>\n",
              "      <td>0.099548</td>\n",
              "      <td>8.907484</td>\n",
              "      <td>3.558671</td>\n",
              "      <td>0.239819</td>\n",
              "      <td>0.330317</td>\n",
              "      <td>0.180995</td>\n",
              "      <td>41940</td>\n",
              "      <td>42190</td>\n",
              "      <td>-0.728959</td>\n",
              "    </tr>\n",
              "    <tr>\n",
              "      <th>2410</th>\n",
              "      <td>33800</td>\n",
              "      <td>VPVNPEPDATSVENVNLKTGSGDSQSDPIKADLEVKGQSALPFDVD...</td>\n",
              "      <td>8</td>\n",
              "      <td>Novozymes</td>\n",
              "      <td>substitution</td>\n",
              "      <td>15.0</td>\n",
              "      <td>A</td>\n",
              "      <td>N</td>\n",
              "      <td>55.403077</td>\n",
              "      <td>43.435792</td>\n",
              "      <td>0.099548</td>\n",
              "      <td>8.907484</td>\n",
              "      <td>3.558671</td>\n",
              "      <td>0.235294</td>\n",
              "      <td>0.334842</td>\n",
              "      <td>0.176471</td>\n",
              "      <td>41940</td>\n",
              "      <td>42190</td>\n",
              "      <td>-0.761991</td>\n",
              "    </tr>\n",
              "    <tr>\n",
              "      <th>2411</th>\n",
              "      <td>33801</td>\n",
              "      <td>VPVNPEPDATSVENVPLKTGSGDSQSDPIKADLEVKGQSALPFDVD...</td>\n",
              "      <td>8</td>\n",
              "      <td>Novozymes</td>\n",
              "      <td>substitution</td>\n",
              "      <td>15.0</td>\n",
              "      <td>A</td>\n",
              "      <td>P</td>\n",
              "      <td>55.403077</td>\n",
              "      <td>44.307285</td>\n",
              "      <td>0.099548</td>\n",
              "      <td>8.907484</td>\n",
              "      <td>3.558671</td>\n",
              "      <td>0.235294</td>\n",
              "      <td>0.334842</td>\n",
              "      <td>0.176471</td>\n",
              "      <td>41940</td>\n",
              "      <td>42190</td>\n",
              "      <td>-0.753394</td>\n",
              "    </tr>\n",
              "    <tr>\n",
              "      <th>2412</th>\n",
              "      <td>33802</td>\n",
              "      <td>VPVNPEPDATSVENVWLKTGSGDSQSDPIKADLEVKGQSALPFDVD...</td>\n",
              "      <td>8</td>\n",
              "      <td>Novozymes</td>\n",
              "      <td>substitution</td>\n",
              "      <td>15.0</td>\n",
              "      <td>A</td>\n",
              "      <td>W</td>\n",
              "      <td>55.403077</td>\n",
              "      <td>43.994163</td>\n",
              "      <td>0.104072</td>\n",
              "      <td>8.907484</td>\n",
              "      <td>3.558671</td>\n",
              "      <td>0.239819</td>\n",
              "      <td>0.330317</td>\n",
              "      <td>0.176471</td>\n",
              "      <td>47440</td>\n",
              "      <td>47690</td>\n",
              "      <td>-0.750226</td>\n",
              "    </tr>\n",
              "  </tbody>\n",
              "</table>\n",
              "<p>2413 rows × 19 columns</p>\n",
              "</div>\n",
              "      <button class=\"colab-df-convert\" onclick=\"convertToInteractive('df-06b34d18-9060-4c07-926e-e222f58818a9')\"\n",
              "              title=\"Convert this dataframe to an interactive table.\"\n",
              "              style=\"display:none;\">\n",
              "        \n",
              "  <svg xmlns=\"http://www.w3.org/2000/svg\" height=\"24px\"viewBox=\"0 0 24 24\"\n",
              "       width=\"24px\">\n",
              "    <path d=\"M0 0h24v24H0V0z\" fill=\"none\"/>\n",
              "    <path d=\"M18.56 5.44l.94 2.06.94-2.06 2.06-.94-2.06-.94-.94-2.06-.94 2.06-2.06.94zm-11 1L8.5 8.5l.94-2.06 2.06-.94-2.06-.94L8.5 2.5l-.94 2.06-2.06.94zm10 10l.94 2.06.94-2.06 2.06-.94-2.06-.94-.94-2.06-.94 2.06-2.06.94z\"/><path d=\"M17.41 7.96l-1.37-1.37c-.4-.4-.92-.59-1.43-.59-.52 0-1.04.2-1.43.59L10.3 9.45l-7.72 7.72c-.78.78-.78 2.05 0 2.83L4 21.41c.39.39.9.59 1.41.59.51 0 1.02-.2 1.41-.59l7.78-7.78 2.81-2.81c.8-.78.8-2.07 0-2.86zM5.41 20L4 18.59l7.72-7.72 1.47 1.35L5.41 20z\"/>\n",
              "  </svg>\n",
              "      </button>\n",
              "      \n",
              "  <style>\n",
              "    .colab-df-container {\n",
              "      display:flex;\n",
              "      flex-wrap:wrap;\n",
              "      gap: 12px;\n",
              "    }\n",
              "\n",
              "    .colab-df-convert {\n",
              "      background-color: #E8F0FE;\n",
              "      border: none;\n",
              "      border-radius: 50%;\n",
              "      cursor: pointer;\n",
              "      display: none;\n",
              "      fill: #1967D2;\n",
              "      height: 32px;\n",
              "      padding: 0 0 0 0;\n",
              "      width: 32px;\n",
              "    }\n",
              "\n",
              "    .colab-df-convert:hover {\n",
              "      background-color: #E2EBFA;\n",
              "      box-shadow: 0px 1px 2px rgba(60, 64, 67, 0.3), 0px 1px 3px 1px rgba(60, 64, 67, 0.15);\n",
              "      fill: #174EA6;\n",
              "    }\n",
              "\n",
              "    [theme=dark] .colab-df-convert {\n",
              "      background-color: #3B4455;\n",
              "      fill: #D2E3FC;\n",
              "    }\n",
              "\n",
              "    [theme=dark] .colab-df-convert:hover {\n",
              "      background-color: #434B5C;\n",
              "      box-shadow: 0px 1px 3px 1px rgba(0, 0, 0, 0.15);\n",
              "      filter: drop-shadow(0px 1px 2px rgba(0, 0, 0, 0.3));\n",
              "      fill: #FFFFFF;\n",
              "    }\n",
              "  </style>\n",
              "\n",
              "      <script>\n",
              "        const buttonEl =\n",
              "          document.querySelector('#df-06b34d18-9060-4c07-926e-e222f58818a9 button.colab-df-convert');\n",
              "        buttonEl.style.display =\n",
              "          google.colab.kernel.accessAllowed ? 'block' : 'none';\n",
              "\n",
              "        async function convertToInteractive(key) {\n",
              "          const element = document.querySelector('#df-06b34d18-9060-4c07-926e-e222f58818a9');\n",
              "          const dataTable =\n",
              "            await google.colab.kernel.invokeFunction('convertToInteractive',\n",
              "                                                     [key], {});\n",
              "          if (!dataTable) return;\n",
              "\n",
              "          const docLinkHtml = 'Like what you see? Visit the ' +\n",
              "            '<a target=\"_blank\" href=https://colab.research.google.com/notebooks/data_table.ipynb>data table notebook</a>'\n",
              "            + ' to learn more about interactive tables.';\n",
              "          element.innerHTML = '';\n",
              "          dataTable['output_type'] = 'display_data';\n",
              "          await google.colab.output.renderOutput(dataTable, element);\n",
              "          const docLink = document.createElement('div');\n",
              "          docLink.innerHTML = docLinkHtml;\n",
              "          element.appendChild(docLink);\n",
              "        }\n",
              "      </script>\n",
              "    </div>\n",
              "  </div>\n",
              "  "
            ]
          },
          "metadata": {},
          "execution_count": 36
        }
      ]
    },
    {
      "cell_type": "code",
      "source": [],
      "metadata": {
        "id": "M-9Q6teZEQb-"
      },
      "execution_count": 36,
      "outputs": []
    },
    {
      "cell_type": "markdown",
      "source": [
        "## Submission"
      ],
      "metadata": {
        "id": "Hvl1NAncEQb-"
      }
    },
    {
      "cell_type": "code",
      "source": [
        "# This will score 0.397, and .415 with blossom62\n",
        "ss[\"tm\"] = test[\"sasa\"]\n",
        "ss.to_csv(\"submission.csv\", index=False)"
      ],
      "metadata": {
        "execution": {
          "iopub.status.busy": "2022-12-07T20:47:15.637757Z",
          "iopub.execute_input": "2022-12-07T20:47:15.639162Z",
          "iopub.status.idle": "2022-12-07T20:47:15.654928Z",
          "shell.execute_reply.started": "2022-12-07T20:47:15.639115Z",
          "shell.execute_reply": "2022-12-07T20:47:15.653761Z"
        },
        "trusted": true,
        "id": "ESKFUDWxEQb-"
      },
      "execution_count": 37,
      "outputs": []
    },
    {
      "cell_type": "markdown",
      "source": [
        "Scores .397 with SASA on test alone"
      ],
      "metadata": {
        "id": "9yfJX9yVEQb_"
      }
    },
    {
      "cell_type": "code",
      "source": [],
      "metadata": {
        "id": "WldH3eDVVBx_"
      },
      "execution_count": null,
      "outputs": []
    }
  ]
}